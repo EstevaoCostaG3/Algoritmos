{
 "cells": [
  {
   "cell_type": "markdown",
   "metadata": {},
   "source": [
    "# Experimento sobre algoritmos de ordenação"
   ]
  },
  {
   "cell_type": "markdown",
   "metadata": {},
   "source": [
    "##### Autor: Estevão de Carvalho Costa"
   ]
  },
  {
   "cell_type": "markdown",
   "metadata": {},
   "source": [
    "### Heap sort"
   ]
  },
  {
   "cell_type": "code",
   "execution_count": 1,
   "metadata": {},
   "outputs": [],
   "source": [
    "## Utility functions\n",
    "\n",
    "def index_of_left_child(i):\n",
    "    return 2*i\n",
    "def index_of_right_child(i):\n",
    "    return 2*i + 1\n",
    "\n",
    "def heapify(heap_array, i, size):\n",
    "    maximum = i\n",
    "    while(i <= size):\n",
    "        left = index_of_left_child(i)\n",
    "        right = index_of_right_child(i)\n",
    "        if(left <= size and heap_array[left] > heap_array[i]):\n",
    "            maximum = left\n",
    "        if(right <= size and heap_array[right] > heap_array[maximum]):\n",
    "            maximum = right\n",
    "        if(maximum != i):\n",
    "            heap_array[maximum], heap_array[i] = heap_array[i], heap_array[maximum]\n",
    "            i = maximum\n",
    "        else:\n",
    "            break\n",
    "\n",
    "def build_heap(array, number_of_elements):\n",
    "    array.insert(0, None)\n",
    "    heap_array = array\n",
    "    index_of_first_non_leaf_node = round(number_of_elements/2)\n",
    "    for i in range(index_of_first_non_leaf_node, 0, -1):\n",
    "        heapify(heap_array, i, number_of_elements)\n",
    "        \n",
    "def show_heap(heap_array):\n",
    "    nodes_buffer = [heap_array[1]]\n",
    "    current = 1\n",
    "    while(len(nodes_buffer) > 0):\n",
    "        for node in nodes_buffer:\n",
    "            print(node, end=' ')\n",
    "            nodes_buffer = nodes_buffer[1:]\n",
    "            if(index_of_left_child(current) <= size):\n",
    "                nodes_buffer.append(heap_array[index_of_left_child(current)])\n",
    "            if(index_of_right_child(current) <= size):\n",
    "                nodes_buffer.append(heap_array[index_of_right_child(current)])\n",
    "            current += 1\n",
    "        print()\n",
    "        \n",
    "## main heap sort function:\n",
    "\n",
    "def heap_sort(array):\n",
    "    number_of_elements = len(array)\n",
    "    build_heap(array, number_of_elements)\n",
    "    for i in range(number_of_elements, 1, -1):\n",
    "        array[1], array[i] = array[i], array[1]\n",
    "        number_of_elements -= 1\n",
    "        heapify(array, 1, number_of_elements)\n",
    "    array.pop(0)\n"
   ]
  },
  {
   "cell_type": "code",
   "execution_count": 2,
   "metadata": {},
   "outputs": [
    {
     "name": "stdout",
     "output_type": "stream",
     "text": [
      "[1, 3, 4, 5, 10, 20, 50]\n"
     ]
    }
   ],
   "source": [
    "array = [4,10,50,20,1,3,5]\n",
    "heap_sort(array)\n",
    "print(array)"
   ]
  },
  {
   "cell_type": "markdown",
   "metadata": {},
   "source": [
    "### Quick Sort"
   ]
  },
  {
   "cell_type": "code",
   "execution_count": 5,
   "metadata": {},
   "outputs": [],
   "source": [
    "def partition(array, low, high):\n",
    "    pivot = array[high]\n",
    "    i = low - 1\n",
    "    for j in range(low, high):\n",
    "        if(array[j] <= pivot):\n",
    "            i += 1\n",
    "            array[i], array[j] = array[j], array[i]\n",
    "    array[i+1], array[high] = array[high], array[i+1]\n",
    "    return i + 1\n",
    "\n",
    "def helper_quick_sort(array, low, high):\n",
    "    if(high > low):\n",
    "        middle_index = partition(array, low, high)    \n",
    "        helper_quick_sort(array, low, middle_index - 1)\n",
    "        helper_quick_sort(array, middle_index + 1, high)\n",
    "\n",
    "def quick_sort(array):\n",
    "    helper_quick_sort(array, 0, len(array) - 1)    \n",
    "    "
   ]
  },
  {
   "cell_type": "code",
   "execution_count": 6,
   "metadata": {},
   "outputs": [
    {
     "name": "stdout",
     "output_type": "stream",
     "text": [
      "[3, 4, 4, 5, 5, 5, 6, 7, 8, 8, 56, 78, 578]\n"
     ]
    }
   ],
   "source": [
    "array = [78,5,578,8,6,4,5,7,8,5,4,3,56]\n",
    "quick_sort(array)\n",
    "print(array)"
   ]
  },
  {
   "cell_type": "code",
   "execution_count": null,
   "metadata": {},
   "outputs": [],
   "source": []
  },
  {
   "cell_type": "markdown",
   "metadata": {},
   "source": [
    "### Counting Sort e Radix Sort"
   ]
  },
  {
   "cell_type": "code",
   "execution_count": 5,
   "metadata": {
    "scrolled": true
   },
   "outputs": [],
   "source": [
    "def counting_sort(array, maximum_key_value, key):\n",
    "    '''\n",
    "    Counting sort assume que as chaves de `array` pertencem ao intervalo [0, maximum_key_value]\n",
    "    '''\n",
    "    countingLists = []\n",
    "    for i in range(0, maximum_key_value + 1):\n",
    "        countingLists.append([])\n",
    "    n = len(array)\n",
    "    sorted_array = []*n\n",
    "    for i in range(0, n):\n",
    "        countingLists[key(array[i])].append(array[i])\n",
    "    for i in range(0, maximum_key_value + 1):\n",
    "          sorted_array.extend(countingLists[i])\n",
    "    return sorted_array"
   ]
  },
  {
   "cell_type": "code",
   "execution_count": 9,
   "metadata": {},
   "outputs": [
    {
     "name": "stdout",
     "output_type": "stream",
     "text": [
      "[0, 1, 3, 4, 4, 6, 6, 6]\n"
     ]
    }
   ],
   "source": [
    "sorted_array = counting_sort([1,0,4,6,4,3,6,6], 6, lambda element : element)\n",
    "print(sorted_array)"
   ]
  },
  {
   "cell_type": "code",
   "execution_count": null,
   "metadata": {},
   "outputs": [],
   "source": []
  }
 ],
 "metadata": {
  "kernelspec": {
   "display_name": "Python 3",
   "language": "python",
   "name": "python3"
  },
  "language_info": {
   "codemirror_mode": {
    "name": "ipython",
    "version": 3
   },
   "file_extension": ".py",
   "mimetype": "text/x-python",
   "name": "python",
   "nbconvert_exporter": "python",
   "pygments_lexer": "ipython3",
   "version": "3.7.1"
  }
 },
 "nbformat": 4,
 "nbformat_minor": 2
}
