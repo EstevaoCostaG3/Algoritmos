{
 "cells": [
  {
   "cell_type": "markdown",
   "metadata": {},
   "source": [
    "# Experimento sobre algoritmos de ordenação"
   ]
  },
  {
   "cell_type": "markdown",
   "metadata": {},
   "source": [
    "##### Autor: Estevão de Carvalho Costa"
   ]
  },
  {
   "cell_type": "code",
   "execution_count": 1,
   "metadata": {},
   "outputs": [],
   "source": [
    "import random\n",
    "import time\n",
    "import matplotlib.pyplot as plt\n",
    "import numpy as np"
   ]
  },
  {
   "cell_type": "markdown",
   "metadata": {},
   "source": [
    "## 1. Implementações"
   ]
  },
  {
   "cell_type": "markdown",
   "metadata": {},
   "source": [
    "### 1.1. Heap sort"
   ]
  },
  {
   "cell_type": "code",
   "execution_count": 2,
   "metadata": {},
   "outputs": [],
   "source": [
    "## Utility functions\n",
    "\n",
    "def index_of_left_child(i):\n",
    "    return 2*i\n",
    "def index_of_right_child(i):\n",
    "    return 2*i + 1\n",
    "\n",
    "def heapify(heap_array, i, size):\n",
    "    maximum = i\n",
    "    while(i <= size):\n",
    "        left = index_of_left_child(i)\n",
    "        right = index_of_right_child(i)\n",
    "        if(left <= size and heap_array[left] > heap_array[i]):\n",
    "            maximum = left\n",
    "        if(right <= size and heap_array[right] > heap_array[maximum]):\n",
    "            maximum = right\n",
    "        if(maximum != i):\n",
    "            heap_array[maximum], heap_array[i] = heap_array[i], heap_array[maximum]\n",
    "            i = maximum\n",
    "        else:\n",
    "            break\n",
    "\n",
    "def build_heap(array, number_of_elements):\n",
    "    array.insert(0, None)\n",
    "    heap_array = array\n",
    "    index_of_first_non_leaf_node = round(number_of_elements/2)\n",
    "    for i in range(index_of_first_non_leaf_node, 0, -1):\n",
    "        heapify(heap_array, i, number_of_elements)\n",
    "        \n",
    "def show_heap(heap_array):\n",
    "    nodes_buffer = [heap_array[1]]\n",
    "    current = 1\n",
    "    while(len(nodes_buffer) > 0):\n",
    "        for node in nodes_buffer:\n",
    "            print(node, end=' ')\n",
    "            nodes_buffer = nodes_buffer[1:]\n",
    "            if(index_of_left_child(current) <= size):\n",
    "                nodes_buffer.append(heap_array[index_of_left_child(current)])\n",
    "            if(index_of_right_child(current) <= size):\n",
    "                nodes_buffer.append(heap_array[index_of_right_child(current)])\n",
    "            current += 1\n",
    "        print()\n",
    "        \n",
    "## main heap sort function:\n",
    "\n",
    "def heap_sort(array):\n",
    "    number_of_elements = len(array)\n",
    "    build_heap(array, number_of_elements)\n",
    "    for i in range(number_of_elements, 1, -1):\n",
    "        array[1], array[i] = array[i], array[1]\n",
    "        number_of_elements -= 1\n",
    "        heapify(array, 1, number_of_elements)\n",
    "    array.pop(0)\n"
   ]
  },
  {
   "cell_type": "code",
   "execution_count": 3,
   "metadata": {},
   "outputs": [
    {
     "name": "stdout",
     "output_type": "stream",
     "text": [
      "[1, 3, 4, 5, 10, 20, 50]\n"
     ]
    }
   ],
   "source": [
    "array = [4,10,50,20,1,3,5]\n",
    "heap_sort(array)\n",
    "print(array)"
   ]
  },
  {
   "cell_type": "markdown",
   "metadata": {},
   "source": [
    "### 1.2. Quick Sort"
   ]
  },
  {
   "cell_type": "code",
   "execution_count": 4,
   "metadata": {},
   "outputs": [],
   "source": [
    "def partition(array, low, high):\n",
    "    pivot = array[high]\n",
    "    i = low - 1\n",
    "    for j in range(low, high):\n",
    "        if(array[j] <= pivot):\n",
    "            i += 1\n",
    "            array[i], array[j] = array[j], array[i]\n",
    "    array[i+1], array[high] = array[high], array[i+1]\n",
    "    return i + 1\n",
    "\n",
    "def helper_quick_sort(array, low, high):\n",
    "    if(high > low):\n",
    "        middle_index = partition(array, low, high)    \n",
    "        helper_quick_sort(array, low, middle_index - 1)\n",
    "        helper_quick_sort(array, middle_index + 1, high)\n",
    "\n",
    "def quick_sort(array):\n",
    "    helper_quick_sort(array, 0, len(array) - 1)    \n",
    "    "
   ]
  },
  {
   "cell_type": "code",
   "execution_count": 5,
   "metadata": {},
   "outputs": [
    {
     "name": "stdout",
     "output_type": "stream",
     "text": [
      "[3, 4, 4, 5, 5, 5, 6, 7, 8, 8, 56, 78, 578]\n"
     ]
    }
   ],
   "source": [
    "array = [78,5,578,8,6,4,5,7,8,5,4,3,56]\n",
    "quick_sort(array)\n",
    "print(array)"
   ]
  },
  {
   "cell_type": "markdown",
   "metadata": {},
   "source": [
    "### 1.3. Counting Sort e Radix Sort"
   ]
  },
  {
   "cell_type": "markdown",
   "metadata": {},
   "source": [
    "Os algoritmos Counting Sort e Radix Sort assumem que as chaves de `array` pertencem ao intervalo `[0, maximum_key_value]`"
   ]
  },
  {
   "cell_type": "code",
   "execution_count": 42,
   "metadata": {
    "scrolled": true
   },
   "outputs": [],
   "source": [
    "def counting_sort(array, maximum_key_value, key):\n",
    "    countingLists = []\n",
    "    for i in range(0, maximum_key_value + 1):\n",
    "        countingLists.append([])\n",
    "    n = len(array)\n",
    "    sorted_array = []*n\n",
    "    for i in range(0, n):\n",
    "        countingLists[key(array[i])].append(array[i])\n",
    "    for i in range(0, maximum_key_value + 1):\n",
    "          sorted_array.extend(countingLists[i])\n",
    "    return sorted_array"
   ]
  },
  {
   "cell_type": "code",
   "execution_count": 43,
   "metadata": {},
   "outputs": [
    {
     "name": "stdout",
     "output_type": "stream",
     "text": [
      "[0, 1, 3, 4, 4, 6, 6, 6]\n"
     ]
    }
   ],
   "source": [
    "sorted_array = counting_sort([1,0,4,6,4,3,6,6], 6, lambda number : number)\n",
    "print(sorted_array)"
   ]
  },
  {
   "cell_type": "code",
   "execution_count": 49,
   "metadata": {},
   "outputs": [],
   "source": [
    "def radix_sort(array, digits, base = 10):\n",
    "    sorted_array = array\n",
    "    for i in range(0, digits):\n",
    "        ith_less_significant_digit = lambda number: (number // base**i) % base\n",
    "        sorted_array = counting_sort(sorted_array, base - 1, ith_less_significant_digit)\n",
    "    return sorted_array"
   ]
  },
  {
   "cell_type": "code",
   "execution_count": 50,
   "metadata": {
    "scrolled": true
   },
   "outputs": [
    {
     "name": "stdout",
     "output_type": "stream",
     "text": [
      "[0, 1, 3, 3, 12, 12, 12, 40, 50, 67, 123, 123, 123, 123, 176, 220, 312, 445, 1233, 6664]\n"
     ]
    }
   ],
   "source": [
    "array = [176,220,123,40,50,1,0,123,312,3,12,3,123,12,123,12,445,67,1233,6664]\n",
    "sorted_array = radix_sort(array, 4)\n",
    "print(sorted_array)"
   ]
  },
  {
   "cell_type": "markdown",
   "metadata": {},
   "source": [
    "#### Nos experimentos a seguir, vamos plotar gráficos comparando em cada algoritmo implementado o **tempo de execução** em função do **tamanho do vetor de entrada**"
   ]
  },
  {
   "cell_type": "markdown",
   "metadata": {},
   "source": [
    "## 2. Experimento 1"
   ]
  },
  {
   "cell_type": "markdown",
   "metadata": {},
   "source": [
    "#### Deve-se ordenar vetores numéricos onde em média 90% dos elementos têm o mesmo valor. Os demais apresentem valores distintos e distribuídos de maneira uniforme o longo do vetor."
   ]
  },
  {
   "cell_type": "markdown",
   "metadata": {},
   "source": [
    "## 3. Experimento 2"
   ]
  },
  {
   "cell_type": "markdown",
   "metadata": {},
   "source": [
    "#### Ordenar vetores onde não há elementos repetidos e chaves foram inseridas de maneira aleatória."
   ]
  },
  {
   "cell_type": "code",
   "execution_count": 56,
   "metadata": {},
   "outputs": [],
   "source": [
    "def __is_sorted(array):\n",
    "    for i in range(1, len(array)):\n",
    "        if(array[i-1] > array[i]):\n",
    "            return False\n",
    "    return True\n",
    "        \n",
    "def __generate_unique_random_key(keys_already_chosen, maximum_key_value):\n",
    "    candidate = random.randint(0, maximum_key_value)\n",
    "    while(keys_already_chosen.get(candidate) != None):\n",
    "        candidate = random.randint(0, maximum_key_value)\n",
    "    return candidate\n",
    "    \n",
    "def generate_array_with_unique_random_keys(n, maximum_key_value = 1000):\n",
    "    if(maximum_key_value < n):\n",
    "        maximum_key_value = n + 100\n",
    "    array = [None] * n\n",
    "    keys_already_chosen = {}\n",
    "    for i in range(n):\n",
    "        new_random_key = __generate_unique_random_key(keys_already_chosen, maximum_key_value)\n",
    "        keys_already_chosen[new_random_key] = True\n",
    "        array[i] = new_random_key\n",
    "    return array\n",
    "\n",
    "def execution_times_to_sort_random_arrays(maximun_array_size):\n",
    "    execution_times = {}\n",
    "    for n in range(1, maximun_array_size + 1, 10):\n",
    "        random_array = generate_array_with_unique_random_keys(n)\n",
    "        random_array_copy_1 = random_array.copy()\n",
    "        random_array_copy_2 = random_array.copy()\n",
    "        execution_time = {}\n",
    "        \n",
    "        ## heap sort\n",
    "        start_time = time.time()\n",
    "        heap_sort(random_array)\n",
    "        execution_time['heap_sort'] = time.time() - start_time\n",
    "        \n",
    "        ## quick sort\n",
    "        start_time = time.time()\n",
    "        quick_sort(random_array_copy_1)\n",
    "        execution_time['quick_sort'] = time.time() - start_time\n",
    "        \n",
    "        ## radix sort\n",
    "        maximum_value = max(random_array_copy_2)\n",
    "        digits = len(str(maximum_value))\n",
    "        start_time = time.time()\n",
    "        output_array = radix_sort(random_array_copy_2, digits)\n",
    "        execution_time['radix_sort'] = time.time() - start_time\n",
    "\n",
    "        execution_times[n] = execution_time\n",
    "    \n",
    "    return execution_times  \n",
    "\n",
    "def describe_results(execution_times):\n",
    "    for n in execution_times.keys():\n",
    "        print('n = {}, results: {}'.format(n, execution_times[n]))\n"
   ]
  },
  {
   "cell_type": "code",
   "execution_count": 57,
   "metadata": {},
   "outputs": [],
   "source": [
    "execution_times = execution_times_to_sort_random_arrays(500)"
   ]
  },
  {
   "cell_type": "code",
   "execution_count": null,
   "metadata": {},
   "outputs": [],
   "source": []
  }
 ],
 "metadata": {
  "kernelspec": {
   "display_name": "Python 3",
   "language": "python",
   "name": "python3"
  },
  "language_info": {
   "codemirror_mode": {
    "name": "ipython",
    "version": 3
   },
   "file_extension": ".py",
   "mimetype": "text/x-python",
   "name": "python",
   "nbconvert_exporter": "python",
   "pygments_lexer": "ipython3",
   "version": "3.7.1"
  }
 },
 "nbformat": 4,
 "nbformat_minor": 2
}
