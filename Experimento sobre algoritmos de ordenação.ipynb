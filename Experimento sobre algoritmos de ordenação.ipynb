{
 "cells": [
  {
   "cell_type": "markdown",
   "metadata": {},
   "source": [
    "# Experimento sobre algoritmos de ordenação"
   ]
  },
  {
   "cell_type": "markdown",
   "metadata": {},
   "source": [
    "##### Autor: Estevão de Carvalho Costa"
   ]
  },
  {
   "cell_type": "code",
   "execution_count": 1,
   "metadata": {},
   "outputs": [],
   "source": [
    "import random\n",
    "import time\n",
    "import matplotlib.pyplot as plt\n",
    "import numpy as np"
   ]
  },
  {
   "cell_type": "markdown",
   "metadata": {},
   "source": [
    "## 1. Implementações"
   ]
  },
  {
   "cell_type": "markdown",
   "metadata": {},
   "source": [
    "### 1.1. Heap sort"
   ]
  },
  {
   "cell_type": "code",
   "execution_count": 2,
   "metadata": {},
   "outputs": [],
   "source": [
    "## Utility functions\n",
    "\n",
    "def index_of_left_child(i):\n",
    "    return 2*i\n",
    "def index_of_right_child(i):\n",
    "    return 2*i + 1\n",
    "\n",
    "def heapify(heap_array, i, size):\n",
    "    maximum = i\n",
    "    while(i <= size):\n",
    "        left = index_of_left_child(i)\n",
    "        right = index_of_right_child(i)\n",
    "        if(left <= size and heap_array[left] > heap_array[i]):\n",
    "            maximum = left\n",
    "        if(right <= size and heap_array[right] > heap_array[maximum]):\n",
    "            maximum = right\n",
    "        if(maximum != i):\n",
    "            heap_array[maximum], heap_array[i] = heap_array[i], heap_array[maximum]\n",
    "            i = maximum\n",
    "        else:\n",
    "            break\n",
    "\n",
    "def build_heap(array, number_of_elements):\n",
    "    array.insert(0, None)\n",
    "    heap_array = array\n",
    "    index_of_first_non_leaf_node = round(number_of_elements/2)\n",
    "    for i in range(index_of_first_non_leaf_node, 0, -1):\n",
    "        heapify(heap_array, i, number_of_elements)\n",
    "        \n",
    "def show_heap(heap_array):\n",
    "    nodes_buffer = [heap_array[1]]\n",
    "    current = 1\n",
    "    while(len(nodes_buffer) > 0):\n",
    "        for node in nodes_buffer:\n",
    "            print(node, end=' ')\n",
    "            nodes_buffer = nodes_buffer[1:]\n",
    "            if(index_of_left_child(current) <= size):\n",
    "                nodes_buffer.append(heap_array[index_of_left_child(current)])\n",
    "            if(index_of_right_child(current) <= size):\n",
    "                nodes_buffer.append(heap_array[index_of_right_child(current)])\n",
    "            current += 1\n",
    "        print()\n",
    "        \n",
    "## main heap sort function:\n",
    "\n",
    "def heap_sort(array):\n",
    "    number_of_elements = len(array)\n",
    "    build_heap(array, number_of_elements)\n",
    "    for i in range(number_of_elements, 1, -1):\n",
    "        array[1], array[i] = array[i], array[1]\n",
    "        number_of_elements -= 1\n",
    "        heapify(array, 1, number_of_elements)\n",
    "    array.pop(0)\n"
   ]
  },
  {
   "cell_type": "code",
   "execution_count": 3,
   "metadata": {},
   "outputs": [
    {
     "name": "stdout",
     "output_type": "stream",
     "text": [
      "[1, 3, 4, 5, 10, 20, 50]\n"
     ]
    }
   ],
   "source": [
    "array = [4,10,50,20,1,3,5]\n",
    "heap_sort(array)\n",
    "print(array)"
   ]
  },
  {
   "cell_type": "markdown",
   "metadata": {},
   "source": [
    "### 1.2. Quick Sort"
   ]
  },
  {
   "cell_type": "code",
   "execution_count": 4,
   "metadata": {},
   "outputs": [],
   "source": [
    "def partition(array, low, high):\n",
    "    pivot = array[high]\n",
    "    i = low - 1\n",
    "    for j in range(low, high):\n",
    "        if(array[j] <= pivot):\n",
    "            i += 1\n",
    "            array[i], array[j] = array[j], array[i]\n",
    "    array[i+1], array[high] = array[high], array[i+1]\n",
    "    return i + 1\n",
    "\n",
    "def helper_quick_sort(array, low, high):\n",
    "    if(high > low):\n",
    "        middle_index = partition(array, low, high)    \n",
    "        helper_quick_sort(array, low, middle_index - 1)\n",
    "        helper_quick_sort(array, middle_index + 1, high)\n",
    "\n",
    "def quick_sort(array):\n",
    "    helper_quick_sort(array, 0, len(array) - 1)    \n",
    "    "
   ]
  },
  {
   "cell_type": "code",
   "execution_count": 5,
   "metadata": {},
   "outputs": [
    {
     "name": "stdout",
     "output_type": "stream",
     "text": [
      "[3, 4, 4, 5, 5, 5, 6, 7, 8, 8, 56, 78, 578]\n"
     ]
    }
   ],
   "source": [
    "array = [78,5,578,8,6,4,5,7,8,5,4,3,56]\n",
    "quick_sort(array)\n",
    "print(array)"
   ]
  },
  {
   "cell_type": "markdown",
   "metadata": {},
   "source": [
    "### 1.3. Counting Sort e Radix Sort"
   ]
  },
  {
   "cell_type": "markdown",
   "metadata": {},
   "source": [
    "Os algoritmos Counting Sort e Radix Sort assumem que as chaves de `array` pertencem ao intervalo `[0, maximum_key_value]`"
   ]
  },
  {
   "cell_type": "code",
   "execution_count": 6,
   "metadata": {
    "scrolled": true
   },
   "outputs": [],
   "source": [
    "def counting_sort(array, maximum_key_value, key):\n",
    "    countingLists = []\n",
    "    for i in range(0, maximum_key_value + 1):\n",
    "        countingLists.append([])\n",
    "    n = len(array)\n",
    "    sorted_array = []*n\n",
    "    for i in range(0, n):\n",
    "        countingLists[key(array[i])].append(array[i])\n",
    "    for i in range(0, maximum_key_value + 1):\n",
    "          sorted_array.extend(countingLists[i])\n",
    "    return sorted_array"
   ]
  },
  {
   "cell_type": "code",
   "execution_count": 7,
   "metadata": {},
   "outputs": [
    {
     "name": "stdout",
     "output_type": "stream",
     "text": [
      "[0, 1, 3, 4, 4, 6, 6, 6]\n"
     ]
    }
   ],
   "source": [
    "sorted_array = counting_sort([1,0,4,6,4,3,6,6], 6, lambda number : number)\n",
    "print(sorted_array)"
   ]
  },
  {
   "cell_type": "code",
   "execution_count": 8,
   "metadata": {},
   "outputs": [],
   "source": [
    "def radix_sort(array, digits, base = 10):\n",
    "    sorted_array = array\n",
    "    for i in range(0, digits):\n",
    "        ith_less_significant_digit = lambda number: (number // base**i) % base\n",
    "        sorted_array = counting_sort(sorted_array, base - 1, ith_less_significant_digit)\n",
    "    return sorted_array"
   ]
  },
  {
   "cell_type": "code",
   "execution_count": 9,
   "metadata": {
    "scrolled": true
   },
   "outputs": [
    {
     "name": "stdout",
     "output_type": "stream",
     "text": [
      "[0, 1, 3, 3, 12, 12, 12, 40, 50, 67, 123, 123, 123, 123, 176, 220, 312, 445, 1233, 6664]\n"
     ]
    }
   ],
   "source": [
    "array = [176,220,123,40,50,1,0,123,312,3,12,3,123,12,123,12,445,67,1233,6664]\n",
    "sorted_array = radix_sort(array, 4)\n",
    "print(sorted_array)"
   ]
  },
  {
   "cell_type": "markdown",
   "metadata": {},
   "source": [
    "#### Nos experimentos a seguir, vamos plotar gráficos comparando em cada algoritmo implementado o **tempo de execução** em função do **tamanho do vetor de entrada**"
   ]
  },
  {
   "cell_type": "markdown",
   "metadata": {},
   "source": [
    "## 2. Experimento 1\n",
    "#### Deve-se ordenar vetores numéricos onde em média 90% dos elementos têm o mesmo valor. Os demais apresentem valores distintos e distribuídos de maneira uniforme o longo do vetor."
   ]
  },
  {
   "cell_type": "markdown",
   "metadata": {},
   "source": [
    "## 3. Experimento 2\n",
    "#### Ordenar vetores onde não há elementos repetidos e chaves foram inseridas de maneira aleatória."
   ]
  },
  {
   "cell_type": "code",
   "execution_count": 13,
   "metadata": {},
   "outputs": [],
   "source": [
    "def __is_sorted(array):\n",
    "    for i in range(1, len(array)):\n",
    "        if(array[i-1] > array[i]):\n",
    "            return False\n",
    "    return True\n",
    "    \n",
    "def generate_array_with_unique_random_keys(n):\n",
    "    keys = [number for number in range(n)]\n",
    "    array = []\n",
    "    \n",
    "    for i in range(n):\n",
    "        random_index = random.randint(0, len(keys)-1)\n",
    "        array.append(keys[random_index])\n",
    "        del keys[random_index]\n",
    "        \n",
    "    return array\n",
    "\n",
    "def execution_times_to_sort_random_arrays(array_sizes):\n",
    "    execution_times = {'heap_sort': [], \n",
    "                       'quick_sort': [], \n",
    "                       'radix_sort': []}\n",
    "    for n in array_sizes:\n",
    "        print(\"n = \", n, end=' ')\n",
    "        \n",
    "        random_array = generate_array_with_unique_random_keys(n)\n",
    "        random_array_copy_1 = random_array.copy()\n",
    "        random_array_copy_2 = random_array.copy()\n",
    "        print('vetores aleatórios gerados', end=' ')\n",
    "        \n",
    "        ## heap sort\n",
    "        start_time = time.time()\n",
    "        heap_sort(random_array)\n",
    "        execution_time = time.time() - start_time\n",
    "        execution_times['heap_sort'].append(execution_time)\n",
    "        print('heap sort terminou', end=' ')\n",
    "        \n",
    "        ## quick sort\n",
    "        start_time = time.time()\n",
    "        quick_sort(random_array_copy_1)\n",
    "        execution_time = time.time() - start_time\n",
    "        execution_times['quick_sort'].append(execution_time)\n",
    "        print('quick sort terminou', end=' ')\n",
    "        \n",
    "        ## radix sort\n",
    "        maximum_value = n - 1\n",
    "        digits = len(str(maximum_value))\n",
    "        start_time = time.time()\n",
    "        output_array = radix_sort(random_array_copy_2, digits)\n",
    "        execution_time = time.time() - start_time\n",
    "        execution_times['radix_sort'].append(execution_time)\n",
    "        print('radix sort terminou')\n",
    "    \n",
    "    execution_times['heap_sort'] = np.asarray(execution_times['heap_sort'])\n",
    "    execution_times['quick_sort'] = np.asarray(execution_times['quick_sort'])\n",
    "    execution_times['radix_sort'] = np.asarray(execution_times['radix_sort'])\n",
    "    \n",
    "    return execution_times\n",
    "        \n",
    "def plot_results(array_sizes, execution_times):\n",
    "    plt.figure(figsize=(10,10))\n",
    "    plt.plot(array_sizes, execution_times['heap_sort'], 'g', label='Heap Sort')\n",
    "    plt.plot(array_sizes, execution_times['quick_sort'], 'r', label='Quick Sort')\n",
    "    plt.plot(array_sizes, execution_times['radix_sort'], 'y', label='Radix Sort')\n",
    "    plt.title('Comparação de Algoritmos de Ordenação')\n",
    "    plt.xlabel('Tamanho da entrada (nº de elementos)')\n",
    "    plt.ylabel('Tempo de execução (segundos)')\n",
    "    plt.legend()\n",
    "    plt.savefig('resultado_experimento_2.png')\n",
    "    plt.show()\n",
    "\n",
    "def run_and_plot(array_sizes):\n",
    "    execution_times = execution_times_to_sort_random_arrays(array_sizes)\n",
    "    plot_results(array_sizes, execution_times)"
   ]
  },
  {
   "cell_type": "code",
   "execution_count": 14,
   "metadata": {},
   "outputs": [
    {
     "name": "stdout",
     "output_type": "stream",
     "text": [
      "n =  100 vetores aleatórios gerados heap sort terminou quick sort terminou radix sort terminou\n",
      "n =  500 vetores aleatórios gerados heap sort terminou quick sort terminou radix sort terminou\n",
      "n =  1000 vetores aleatórios gerados heap sort terminou quick sort terminou radix sort terminou\n",
      "n =  2000 vetores aleatórios gerados heap sort terminou quick sort terminou radix sort terminou\n",
      "n =  5000 vetores aleatórios gerados heap sort terminou quick sort terminou radix sort terminou\n",
      "n =  10000 vetores aleatórios gerados heap sort terminou quick sort terminou radix sort terminou\n",
      "n =  50000 vetores aleatórios gerados heap sort terminou quick sort terminou radix sort terminou\n",
      "n =  100000 vetores aleatórios gerados heap sort terminou quick sort terminou radix sort terminou\n",
      "n =  250000 vetores aleatórios gerados heap sort terminou quick sort terminou radix sort terminou\n",
      "n =  500000 vetores aleatórios gerados heap sort terminou quick sort terminou radix sort terminou\n",
      "n =  750000 vetores aleatórios gerados heap sort terminou quick sort terminou radix sort terminou\n"
     ]
    },
    {
     "data": {
      "image/png": "[encoded data removed]",
      "text/plain": [
       "<Figure size 720x720 with 1 Axes>"
      ]
     },
     "metadata": {
      "needs_background": "light"
     },
     "output_type": "display_data"
    }
   ],
   "source": [
    "# maximum_array_size = 1000000\n",
    "# array_sizes = np.arange(10, maximum_array_size, 10000)\n",
    "array_sizes = np.array([100, 500, 1000, 2000, 5000, 10000, 50000,\n",
    "                        100000, 250000, 500000, 750000])\n",
    "run_and_plot(array_sizes)\n"
   ]
  },
  {
   "cell_type": "code",
   "execution_count": null,
   "metadata": {},
   "outputs": [],
   "source": []
  }
 ],
 "metadata": {
  "kernelspec": {
   "display_name": "Python 3",
   "language": "python",
   "name": "python3"
  },
  "language_info": {
   "codemirror_mode": {
    "name": "ipython",
    "version": 3
   },
   "file_extension": ".py",
   "mimetype": "text/x-python",
   "name": "python",
   "nbconvert_exporter": "python",
   "pygments_lexer": "ipython3",
   "version": "3.7.1"
  }
 },
 "nbformat": 4,
 "nbformat_minor": 2
}
